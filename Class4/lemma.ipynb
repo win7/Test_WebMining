{
 "cells": [
  {
   "cell_type": "code",
   "execution_count": 26,
   "metadata": {},
   "outputs": [
    {
     "name": "stderr",
     "output_type": "stream",
     "text": [
      "[nltk_data] Downloading package punkt to /home/win7/nltk_data...\n",
      "[nltk_data]   Package punkt is already up-to-date!\n"
     ]
    }
   ],
   "source": [
    "import nltk\n",
    "nltk.download(\"punkt\")\n",
    "\n",
    "file = open(\"dracula_book.txt\")\n",
    "book = file.read()"
   ]
  },
  {
   "cell_type": "code",
   "execution_count": 27,
   "metadata": {},
   "outputs": [
    {
     "name": "stdout",
     "output_type": "stream",
     "text": [
      "Chapter 1\n",
      "\n",
      "      It is a truth universally acknowledged, that a single man in\n",
      "      possession of a good fortune, must be in want of a wife.\n",
      "\n",
      "      However little known the feelings or views of such a man may be\n",
      "      on his first entering a neighbourhood, this truth is so well\n",
      "      fixed in the minds of the surrounding families, that he is\n",
      "      considered as the rightful property of some one or other of their\n",
      "      daughters.\n",
      "\n",
      "      My dear Mr. Bennet,  said his lady to him one day, have you\n",
      "\n"
     ]
    }
   ],
   "source": [
    "print(book[:500])"
   ]
  },
  {
   "cell_type": "code",
   "execution_count": 28,
   "metadata": {},
   "outputs": [
    {
     "data": {
      "text/plain": [
       "'However little known the feelings or views of such a man may be\\n      on his first entering a neighbourhood, this truth is so well\\n      fixed in the minds of the surrounding families, that he is\\n      considered as the rightful property of some one or other of their\\n      daughters.'"
      ]
     },
     "execution_count": 28,
     "metadata": {},
     "output_type": "execute_result"
    }
   ],
   "source": [
    "book_sentences = nltk.sent_tokenize(book)\n",
    "len(book_sentences)\n",
    "book_sentences[1]"
   ]
  },
  {
   "cell_type": "code",
   "execution_count": 29,
   "metadata": {},
   "outputs": [],
   "source": [
    "porter = nltk.stem.PorterStemmer()\n"
   ]
  },
  {
   "cell_type": "code",
   "execution_count": 30,
   "metadata": {},
   "outputs": [
    {
     "data": {
      "text/plain": [
       "'e'"
      ]
     },
     "execution_count": 30,
     "metadata": {},
     "output_type": "execute_result"
    }
   ],
   "source": [
    "porter.stem(\"E\") # get same root\n"
   ]
  },
  {
   "cell_type": "code",
   "execution_count": 31,
   "metadata": {},
   "outputs": [],
   "source": [
    "all_tokens = []\n",
    "stem_tokens = [] # list tokens\n",
    "\n",
    "for sent in book_sentences:\n",
    "    for word in nltk.word_tokenize(sent):\n",
    "        all_tokens.append(word)\n",
    "        stem_tokens.append(porter.stem(word))\n"
   ]
  },
  {
   "cell_type": "code",
   "execution_count": 32,
   "metadata": {},
   "outputs": [
    {
     "name": "stdout",
     "output_type": "stream",
     "text": [
      "138547\n",
      "7285\n",
      "19.01811942347289\n"
     ]
    },
    {
     "data": {
      "text/plain": [
       "['Chapter',\n",
       " '1',\n",
       " 'It',\n",
       " 'is',\n",
       " 'a',\n",
       " 'truth',\n",
       " 'universally',\n",
       " 'acknowledged',\n",
       " ',',\n",
       " 'that']"
      ]
     },
     "execution_count": 32,
     "metadata": {},
     "output_type": "execute_result"
    }
   ],
   "source": [
    "print(len(all_tokens))\n",
    "print(len(set(all_tokens))) # vocabulary\n",
    "print(len(all_tokens)/len(set(all_tokens)))\n",
    "all_tokens[:10]"
   ]
  },
  {
   "cell_type": "code",
   "execution_count": 33,
   "metadata": {},
   "outputs": [
    {
     "name": "stdout",
     "output_type": "stream",
     "text": [
      "138547\n",
      "4601\n",
      "30.112366876765922\n"
     ]
    },
    {
     "data": {
      "text/plain": [
       "['chapter',\n",
       " '1',\n",
       " 'it',\n",
       " 'is',\n",
       " 'a',\n",
       " 'truth',\n",
       " 'univers',\n",
       " 'acknowledg',\n",
       " ',',\n",
       " 'that']"
      ]
     },
     "execution_count": 33,
     "metadata": {},
     "output_type": "execute_result"
    }
   ],
   "source": [
    "print(len(stem_tokens))\n",
    "print(len(set(stem_tokens))) # vocabulary\n",
    "print(len(stem_tokens)/len(set(stem_tokens)))\n",
    "stem_tokens[:10]"
   ]
  },
  {
   "cell_type": "code",
   "execution_count": 34,
   "metadata": {},
   "outputs": [],
   "source": [
    "# key: steam\n",
    "# value: list tokens\n",
    "\n"
   ]
  },
  {
   "cell_type": "markdown",
   "metadata": {},
   "source": [
    "Lemmatization"
   ]
  },
  {
   "cell_type": "code",
   "execution_count": null,
   "metadata": {},
   "outputs": [],
   "source": []
  },
  {
   "cell_type": "code",
   "execution_count": 40,
   "metadata": {},
   "outputs": [],
   "source": [
    "wlt = WordNetLemmatizer()"
   ]
  },
  {
   "cell_type": "code",
   "execution_count": 39,
   "metadata": {},
   "outputs": [
    {
     "name": "stdout",
     "output_type": "stream",
     "text": [
      "horse\n"
     ]
    }
   ],
   "source": [
    "print(wlt.lemmatize(\"horses\"))"
   ]
  },
  {
   "cell_type": "code",
   "execution_count": 57,
   "metadata": {},
   "outputs": [
    {
     "data": {
      "text/plain": [
       "'Miss Bingley immediately fixed her eyes on his face, and desired      he would tell her what lady had the credit of inspiring such      reflections.Horses'"
      ]
     },
     "execution_count": 57,
     "metadata": {},
     "output_type": "execute_result"
    }
   ],
   "source": [
    "sent = book_sentences[400]\n",
    "sent = sent.replace(\"\\n\", \"\")\n",
    "sent += \"Horses\"\n",
    "sent"
   ]
  },
  {
   "cell_type": "code",
   "execution_count": 58,
   "metadata": {},
   "outputs": [],
   "source": [
    "lm_tokens = []\n",
    "stem_tokens = []\n",
    "\n",
    "for word in nltk.word_tokenize(sent):\n",
    "    lm_tokens.append(wlt.lemmatize(word))\n",
    "    stem_tokens.append(porter.stem(word))\n",
    "    "
   ]
  },
  {
   "cell_type": "code",
   "execution_count": 59,
   "metadata": {},
   "outputs": [
    {
     "name": "stdout",
     "output_type": "stream",
     "text": [
      "Miss Bingley immediately fixed her eyes on his face, and desired      he would tell her what lady had the credit of inspiring such      reflections.Horses\n",
      "Miss Bingley immediately fixed her eye on his face , and desired he would tell her what lady had the credit of inspiring such reflections.Horses\n",
      "miss bingley immedi fix her eye on hi face , and desir he would tell her what ladi had the credit of inspir such reflections.hors\n"
     ]
    }
   ],
   "source": [
    "print(sent)\n",
    "print(\" \".join(lm_tokens))\n",
    "print(\" \".join(stem_tokens))\n"
   ]
  }
 ],
 "metadata": {
  "kernelspec": {
   "display_name": "min_web",
   "language": "python",
   "name": "python3"
  },
  "language_info": {
   "codemirror_mode": {
    "name": "ipython",
    "version": 3
   },
   "file_extension": ".py",
   "mimetype": "text/x-python",
   "name": "python",
   "nbconvert_exporter": "python",
   "pygments_lexer": "ipython3",
   "version": "3.11.4"
  },
  "orig_nbformat": 4
 },
 "nbformat": 4,
 "nbformat_minor": 2
}
