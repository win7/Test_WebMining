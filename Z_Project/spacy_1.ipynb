{
 "cells": [
  {
   "cell_type": "code",
   "execution_count": 7,
   "metadata": {},
   "outputs": [],
   "source": [
    "import spacy\n",
    "import random\n",
    "from spacy import util\n",
    "from spacy.tokens import Doc\n",
    "from spacy.training import Example\n",
    "from spacy.language import Language\n",
    "from spacy import displacy\n",
    "\n",
    "def print_doc_entities(_doc: Doc):\n",
    "    if _doc.ents:\n",
    "        for _ent in _doc.ents:\n",
    "            print(f\"     {_ent.text} {_ent.label_}\")\n",
    "    else:\n",
    "        print(\"     NONE\")\n",
    "\n",
    "def customizing_pipeline_component(nlp: Language, train_data):\n",
    "    train_data = [\n",
    "        ('APPLE is releasing a new iPhone next month', [(0, 5, \"BRAND\"), (25, 31, \"PRODUCT\")]),\n",
    "        (\"Nike is the world's leading sportswear brand\", [(0, 4, \"BRAND\")]),\n",
    "        (\"Coca-Cola's revenue has increased by 5% this year\", [(0, 10, \"BRAND\")])\n",
    "    ]\n",
    "    text = \"APPle is releasing a new iPhone next month, I bought one for my friend Pedro, in Peru\"\n",
    "    # Result before training\n",
    "    print(f\"\\nResult BEFORE training:\")\n",
    "    doc = nlp(text)\n",
    "    print_doc_entities(doc)\n",
    "    displacy.render(doc, style='ent', jupyter=True)\n",
    "\n",
    "    # Disable all pipe components except 'ner'\n",
    "    disabled_pipes = []\n",
    "    for pipe_name in nlp.pipe_names:\n",
    "        if pipe_name != 'ner':\n",
    "            nlp.disable_pipes(pipe_name)\n",
    "            disabled_pipes.append(pipe_name)\n",
    "\n",
    "    print(\"   Training ...\")\n",
    "    optimizer = nlp.create_optimizer()\n",
    "    for _ in range(25):\n",
    "        random.shuffle(train_data)\n",
    "        for raw_text, entity_offsets in train_data:\n",
    "            doc = nlp.make_doc(raw_text)\n",
    "            example = Example.from_dict(doc, {\"entities\": entity_offsets})\n",
    "            nlp.update([example], sgd=optimizer)\n",
    "\n",
    "    # Enable all previously disabled pipe components\n",
    "    for pipe_name in disabled_pipes:\n",
    "        nlp.enable_pipe(pipe_name)\n",
    "\n",
    "    # Result after training\n",
    "    print(f\"Result AFTER training:\")\n",
    "    doc = nlp(text)\n",
    "    print_doc_entities(doc)\n",
    "    displacy.render(doc, style='ent', jupyter=True)\n",
    "\n",
    "def main():\n",
    "    nlp = spacy.load('en_core_web_sm')\n",
    "    customizing_pipeline_component(nlp, None)\n"
   ]
  },
  {
   "cell_type": "code",
   "execution_count": 8,
   "metadata": {},
   "outputs": [
    {
     "name": "stdout",
     "output_type": "stream",
     "text": [
      "\n",
      "Result BEFORE training:\n",
      "     APPle ORG\n",
      "     iPhone ORG\n",
      "     next month DATE\n",
      "     Pedro PERSON\n",
      "     Peru GPE\n"
     ]
    },
    {
     "data": {
      "text/html": [
       "<span class=\"tex2jax_ignore\"><div class=\"entities\" style=\"line-height: 2.5; direction: ltr\">\n",
       "<mark class=\"entity\" style=\"background: #7aecec; padding: 0.45em 0.6em; margin: 0 0.25em; line-height: 1; border-radius: 0.35em;\">\n",
       "    APPle\n",
       "    <span style=\"font-size: 0.8em; font-weight: bold; line-height: 1; border-radius: 0.35em; vertical-align: middle; margin-left: 0.5rem\">ORG</span>\n",
       "</mark>\n",
       " is releasing a new \n",
       "<mark class=\"entity\" style=\"background: #7aecec; padding: 0.45em 0.6em; margin: 0 0.25em; line-height: 1; border-radius: 0.35em;\">\n",
       "    iPhone\n",
       "    <span style=\"font-size: 0.8em; font-weight: bold; line-height: 1; border-radius: 0.35em; vertical-align: middle; margin-left: 0.5rem\">ORG</span>\n",
       "</mark>\n",
       " \n",
       "<mark class=\"entity\" style=\"background: #bfe1d9; padding: 0.45em 0.6em; margin: 0 0.25em; line-height: 1; border-radius: 0.35em;\">\n",
       "    next month\n",
       "    <span style=\"font-size: 0.8em; font-weight: bold; line-height: 1; border-radius: 0.35em; vertical-align: middle; margin-left: 0.5rem\">DATE</span>\n",
       "</mark>\n",
       ", I bought one for my friend \n",
       "<mark class=\"entity\" style=\"background: #aa9cfc; padding: 0.45em 0.6em; margin: 0 0.25em; line-height: 1; border-radius: 0.35em;\">\n",
       "    Pedro\n",
       "    <span style=\"font-size: 0.8em; font-weight: bold; line-height: 1; border-radius: 0.35em; vertical-align: middle; margin-left: 0.5rem\">PERSON</span>\n",
       "</mark>\n",
       ", in \n",
       "<mark class=\"entity\" style=\"background: #feca74; padding: 0.45em 0.6em; margin: 0 0.25em; line-height: 1; border-radius: 0.35em;\">\n",
       "    Peru\n",
       "    <span style=\"font-size: 0.8em; font-weight: bold; line-height: 1; border-radius: 0.35em; vertical-align: middle; margin-left: 0.5rem\">GPE</span>\n",
       "</mark>\n",
       "</div></span>"
      ],
      "text/plain": [
       "<IPython.core.display.HTML object>"
      ]
     },
     "metadata": {},
     "output_type": "display_data"
    },
    {
     "name": "stdout",
     "output_type": "stream",
     "text": [
      "   Training ...\n",
      "Result AFTER training:\n",
      "     APPle BRAND\n",
      "     iPhone PRODUCT\n",
      "     Pedro PERSON\n",
      "     Peru GPE\n"
     ]
    },
    {
     "data": {
      "text/html": [
       "<span class=\"tex2jax_ignore\"><div class=\"entities\" style=\"line-height: 2.5; direction: ltr\">\n",
       "<mark class=\"entity\" style=\"background: #ddd; padding: 0.45em 0.6em; margin: 0 0.25em; line-height: 1; border-radius: 0.35em;\">\n",
       "    APPle\n",
       "    <span style=\"font-size: 0.8em; font-weight: bold; line-height: 1; border-radius: 0.35em; vertical-align: middle; margin-left: 0.5rem\">BRAND</span>\n",
       "</mark>\n",
       " is releasing a new \n",
       "<mark class=\"entity\" style=\"background: #bfeeb7; padding: 0.45em 0.6em; margin: 0 0.25em; line-height: 1; border-radius: 0.35em;\">\n",
       "    iPhone\n",
       "    <span style=\"font-size: 0.8em; font-weight: bold; line-height: 1; border-radius: 0.35em; vertical-align: middle; margin-left: 0.5rem\">PRODUCT</span>\n",
       "</mark>\n",
       " next month, I bought one for my friend \n",
       "<mark class=\"entity\" style=\"background: #aa9cfc; padding: 0.45em 0.6em; margin: 0 0.25em; line-height: 1; border-radius: 0.35em;\">\n",
       "    Pedro\n",
       "    <span style=\"font-size: 0.8em; font-weight: bold; line-height: 1; border-radius: 0.35em; vertical-align: middle; margin-left: 0.5rem\">PERSON</span>\n",
       "</mark>\n",
       ", in \n",
       "<mark class=\"entity\" style=\"background: #feca74; padding: 0.45em 0.6em; margin: 0 0.25em; line-height: 1; border-radius: 0.35em;\">\n",
       "    Peru\n",
       "    <span style=\"font-size: 0.8em; font-weight: bold; line-height: 1; border-radius: 0.35em; vertical-align: middle; margin-left: 0.5rem\">GPE</span>\n",
       "</mark>\n",
       "</div></span>"
      ],
      "text/plain": [
       "<IPython.core.display.HTML object>"
      ]
     },
     "metadata": {},
     "output_type": "display_data"
    }
   ],
   "source": [
    "main()"
   ]
  },
  {
   "cell_type": "markdown",
   "metadata": {},
   "source": [
    "---"
   ]
  },
  {
   "cell_type": "code",
   "execution_count": 1,
   "metadata": {},
   "outputs": [
    {
     "name": "stderr",
     "output_type": "stream",
     "text": [
      "2023-11-21 13:09:46.822216: I tensorflow/core/util/port.cc:111] oneDNN custom operations are on. You may see slightly different numerical results due to floating-point round-off errors from different computation orders. To turn them off, set the environment variable `TF_ENABLE_ONEDNN_OPTS=0`.\n",
      "2023-11-21 13:09:46.862091: I tensorflow/tsl/cuda/cudart_stub.cc:28] Could not find cuda drivers on your machine, GPU will not be used.\n",
      "2023-11-21 13:09:47.081543: E tensorflow/compiler/xla/stream_executor/cuda/cuda_dnn.cc:9342] Unable to register cuDNN factory: Attempting to register factory for plugin cuDNN when one has already been registered\n",
      "2023-11-21 13:09:47.081608: E tensorflow/compiler/xla/stream_executor/cuda/cuda_fft.cc:609] Unable to register cuFFT factory: Attempting to register factory for plugin cuFFT when one has already been registered\n",
      "2023-11-21 13:09:47.082631: E tensorflow/compiler/xla/stream_executor/cuda/cuda_blas.cc:1518] Unable to register cuBLAS factory: Attempting to register factory for plugin cuBLAS when one has already been registered\n",
      "2023-11-21 13:09:47.171255: I tensorflow/tsl/cuda/cudart_stub.cc:28] Could not find cuda drivers on your machine, GPU will not be used.\n",
      "2023-11-21 13:09:47.173292: I tensorflow/core/platform/cpu_feature_guard.cc:182] This TensorFlow binary is optimized to use available CPU instructions in performance-critical operations.\n",
      "To enable the following instructions: AVX2 AVX512F AVX512_VNNI FMA, in other operations, rebuild TensorFlow with the appropriate compiler flags.\n",
      "2023-11-21 13:09:48.295367: W tensorflow/compiler/tf2tensorrt/utils/py_utils.cc:38] TF-TRT Warning: Could not find TensorRT\n"
     ]
    }
   ],
   "source": [
    "import spacy\n",
    "import random\n",
    "from spacy import util\n",
    "from spacy.tokens import Doc\n",
    "from spacy.training import Example\n",
    "from spacy.language import Language\n",
    "from spacy import displacy"
   ]
  },
  {
   "cell_type": "code",
   "execution_count": 2,
   "metadata": {},
   "outputs": [],
   "source": [
    "def customizing_pipeline_component(nlp: Language, train_data: list):\n",
    "    # Disable all pipe components except 'ner'\n",
    "    disabled_pipes = []\n",
    "    for pipe_name in nlp.pipe_names:\n",
    "        if pipe_name != 'ner':\n",
    "            nlp.disable_pipes(pipe_name)\n",
    "            disabled_pipes.append(pipe_name)\n",
    "\n",
    "    print(\"   Training ...\")\n",
    "    optimizer = nlp.create_optimizer()\n",
    "    for _ in range(25):\n",
    "        random.shuffle(train_data)\n",
    "        for raw_text, entity_offsets in train_data:\n",
    "            doc = nlp.make_doc(raw_text)\n",
    "            example = Example.from_dict(doc, {\"entities\": entity_offsets})\n",
    "            nlp.update([example], sgd=optimizer)\n",
    "\n",
    "    # Enable all previously disabled pipe components\n",
    "    for pipe_name in disabled_pipes:\n",
    "        nlp.enable_pipe(pipe_name)\n",
    "\n",
    "    return nlp"
   ]
  },
  {
   "cell_type": "code",
   "execution_count": 4,
   "metadata": {},
   "outputs": [
    {
     "data": {
      "text/plain": [
       "[(' Desde el emblemático ceviche, donde la frescura del pescado se mezcla con el vibrante sabor del ají y la acidez del limón, hasta el reconfortante lomo saltado, que combina trozos de carne salteados con verduras y especias, los platos típicos de Perú son un festín para los sentidos',\n",
       "  [(22, 29, 'PERUVIAN-FOOD')]),\n",
       " (' Desde el emblemático ceviche, donde la frescura del pescado se mezcla con el vibrante sabor del ají y la acidez del limón, hasta el reconfortante lomo saltado, que combina trozos de carne salteados con verduras y especias, los platos típicos de Perú son un festín para los sentidos',\n",
       "  [(147, 159, 'PERUVIAN-FOOD')]),\n",
       " (' La influencia de ingredientes autóctonos como la papa y el maíz se entrelaza con la herencia culinaria española, africana y asiática, dando lugar a creaciones únicas como el ají de gallina, la causa rellena o el picante rocoto relleno',\n",
       "  [(221, 235, 'PERUVIAN-FOOD')]),\n",
       " (' La influencia de ingredientes autóctonos como la papa y el maíz se entrelaza con la herencia culinaria española, africana y asiática, dando lugar a creaciones únicas como el ají de gallina, la causa rellena o el picante rocoto relleno',\n",
       "  [(194, 207, 'PERUVIAN-FOOD')]),\n",
       " (' El ceviche, considerado el plato insignia de la gastronomía peruana, es una experiencia culinaria que encapsula la frescura y la vitalidad de los productos marinos de la costa peruana',\n",
       "  [(4, 11, 'PERUVIAN-FOOD')]),\n",
       " (' Lo que hace al ceviche peruano único es su armoniosa combinación de ingredientes, donde el ají amarillo aporta un toque de picante equilibrado, la cebolla roja añade un crujido fresco, y el cilantro contribuye con su fragancia herbácea',\n",
       "  [(16, 23, 'PERUVIAN-FOOD')]),\n",
       " (' A menudo, el ceviche se sirve acompañado de maíz choclo y camote, que complementan la experiencia con su dulzura y suavidad, contrarrestando la acidez y picante del platillo principal',\n",
       "  [(14, 21, 'PERUVIAN-FOOD')])]"
      ]
     },
     "execution_count": 4,
     "metadata": {},
     "output_type": "execute_result"
    }
   ],
   "source": [
    "dict_entity = [\n",
    "    \"Ceviche\",\n",
    "    \"Lomo Saltado\",\n",
    "    \"Aji de Gallina\",\n",
    "    \"Anticuchos\",\n",
    "    \"Rocoto Relleno\",\n",
    "    \"Papa a la Huancaína\",\n",
    "    \"Causa Rellena\",\n",
    "    \"Huancaina\",\n",
    "    \"Tacu Tacu\",\n",
    "    \"Seco con Frejoles\",\n",
    "    \"Causa Limeña\",\n",
    "    \"Arroz con Pollo\",\n",
    "    \"Chaufa\",\n",
    "    \"Olluquito con Charqui\",\n",
    "    \"Jalea de Mariscos\",\n",
    "    \"Lechón al Horno\",\n",
    "    \"Parihuela\",\n",
    "    \"Aeropuerto\",\n",
    "    \"Rocoto Relleno de Pescado\",\n",
    "    \"Chupe de Camarones\"\n",
    "]\n",
    "docs = \"La gastronomía peruana es una exquisita fusión de sabores, colores y texturas que reflejan la rica diversidad cultural del país. Desde el emblemático ceviche, donde la frescura del pescado se mezcla con el vibrante sabor del ají y la acidez del limón, hasta el reconfortante lomo saltado, que combina trozos de carne salteados con verduras y especias, los platos típicos de Perú son un festín para los sentidos. La influencia de ingredientes autóctonos como la papa y el maíz se entrelaza con la herencia culinaria española, africana y asiática, dando lugar a creaciones únicas como el ají de gallina, la causa rellena o el picante rocoto relleno. La variedad y complejidad de la cocina peruana reflejan no solo la geografía diversa del país, sino también la pasión y creatividad de sus chefs, convirtiendo a Perú en un destino culinario de renombre mundial. El ceviche, considerado el plato insignia de la gastronomía peruana, es una experiencia culinaria que encapsula la frescura y la vitalidad de los productos marinos de la costa peruana. Este platillo, que ha trascendido fronteras para ganarse reconocimiento internacional, consiste en pescado crudo cortado en trozos, marinado en jugo de limón fresco, junto con cebolla roja, ají amarillo, cilantro y sal. El cítrico jugo de limón no solo le confiere al pescado una textura firme y un sabor vibrante, sino que también actúa como un cocinero natural al desnaturalizar las proteínas del pescado. Lo que hace al ceviche peruano único es su armoniosa combinación de ingredientes, donde el ají amarillo aporta un toque de picante equilibrado, la cebolla roja añade un crujido fresco, y el cilantro contribuye con su fragancia herbácea. A menudo, el ceviche se sirve acompañado de maíz choclo y camote, que complementan la experiencia con su dulzura y suavidad, contrarrestando la acidez y picante del platillo principal. Este deleite culinario no solo destaca por su sabor excepcional, sino también por su importancia cultural y social. Es un plato que se disfruta en reuniones familiares, celebraciones y en las playas que bordean la costa peruana, ofreciendo una experiencia gastronómica que refleja la conexión única entre la tierra y el mar en la identidad culinaria de Perú.\"\n",
    "sentences = docs.split(\".\")\n",
    "# print(sentences)\n",
    "\n",
    "import re\n",
    "\n",
    "train_data = []\n",
    "for s in sentences:\n",
    "    # tokens = s.split()\n",
    "    # print(s)\n",
    "    for entity in dict_entity:\n",
    "        match = (re.search(entity.lower(), s.lower()))\n",
    "        if match:\n",
    "            span = match.span()\n",
    "            train_data.append((s, [(span[0], span[1], \"PERUVIAN-FOOD\")]))\n",
    "train_data"
   ]
  },
  {
   "cell_type": "code",
   "execution_count": 5,
   "metadata": {},
   "outputs": [
    {
     "data": {
      "text/html": [
       "<span class=\"tex2jax_ignore\"><div class=\"entities\" style=\"line-height: 2.5; direction: ltr\">En \n",
       "<mark class=\"entity\" style=\"background: #ff9561; padding: 0.45em 0.6em; margin: 0 0.25em; line-height: 1; border-radius: 0.35em;\">\n",
       "    Perú\n",
       "    <span style=\"font-size: 0.8em; font-weight: bold; line-height: 1; border-radius: 0.35em; vertical-align: middle; margin-left: 0.5rem\">LOC</span>\n",
       "</mark>\n",
       ", lo que hace al ceviche peruano único es su armoniosa combinación de ingredientes, donde el ají amarillo aporta un toque de picante equilibrado, la cebolla roja añade un crujido fresco, y el cilantro contribuye con su fragancia herbácea. A menudo, el ceviche se sirve acompañado de maíz choclo y camote, que complementan la experiencia con su dulzura y suavidad, contrarrestando la acidez y picante del platillo principal.</div></span>"
      ],
      "text/plain": [
       "<IPython.core.display.HTML object>"
      ]
     },
     "metadata": {},
     "output_type": "display_data"
    }
   ],
   "source": [
    "text = \"En Perú, lo que hace al ceviche peruano único es su armoniosa combinación de ingredientes, donde el ají amarillo aporta un toque de picante equilibrado, la cebolla roja añade un crujido fresco, y el cilantro contribuye con su fragancia herbácea. A menudo, el ceviche se sirve acompañado de maíz choclo y camote, que complementan la experiencia con su dulzura y suavidad, contrarrestando la acidez y picante del platillo principal.\"\n",
    "nlp = spacy.load(\"es_core_news_sm\")\n",
    "# Result after training\n",
    "doc = nlp(text)\n",
    "displacy.render(doc, style='ent', jupyter=True)"
   ]
  },
  {
   "cell_type": "code",
   "execution_count": 6,
   "metadata": {},
   "outputs": [
    {
     "name": "stdout",
     "output_type": "stream",
     "text": [
      "   Training ...\n"
     ]
    },
    {
     "data": {
      "text/html": [
       "<span class=\"tex2jax_ignore\"><div class=\"entities\" style=\"line-height: 2.5; direction: ltr\">En \n",
       "<mark class=\"entity\" style=\"background: #ff9561; padding: 0.45em 0.6em; margin: 0 0.25em; line-height: 1; border-radius: 0.35em;\">\n",
       "    Perú\n",
       "    <span style=\"font-size: 0.8em; font-weight: bold; line-height: 1; border-radius: 0.35em; vertical-align: middle; margin-left: 0.5rem\">LOC</span>\n",
       "</mark>\n",
       ", lo que hace al \n",
       "<mark class=\"entity\" style=\"background: #ddd; padding: 0.45em 0.6em; margin: 0 0.25em; line-height: 1; border-radius: 0.35em;\">\n",
       "    ceviche\n",
       "    <span style=\"font-size: 0.8em; font-weight: bold; line-height: 1; border-radius: 0.35em; vertical-align: middle; margin-left: 0.5rem\">PERUVIAN-FOOD</span>\n",
       "</mark>\n",
       " peruano único es su armoniosa combinación de ingredientes, donde el ají amarillo aporta un toque de picante equilibrado, la cebolla roja añade un crujido fresco, y el cilantro contribuye con su fragancia herbácea. A menudo, el \n",
       "<mark class=\"entity\" style=\"background: #ddd; padding: 0.45em 0.6em; margin: 0 0.25em; line-height: 1; border-radius: 0.35em;\">\n",
       "    ceviche\n",
       "    <span style=\"font-size: 0.8em; font-weight: bold; line-height: 1; border-radius: 0.35em; vertical-align: middle; margin-left: 0.5rem\">PERUVIAN-FOOD</span>\n",
       "</mark>\n",
       " se sirve acompañado de maíz choclo y camote, que complementan la experiencia con su dulzura y suavidad, contrarrestando la acidez y picante del platillo principal.</div></span>"
      ],
      "text/plain": [
       "<IPython.core.display.HTML object>"
      ]
     },
     "metadata": {},
     "output_type": "display_data"
    }
   ],
   "source": [
    "nlp = customizing_pipeline_component(nlp, train_data)\n",
    "doc = nlp(text)\n",
    "displacy.render(doc, style='ent', jupyter=True)"
   ]
  }
 ],
 "metadata": {
  "kernelspec": {
   "display_name": "min_web",
   "language": "python",
   "name": "python3"
  },
  "language_info": {
   "codemirror_mode": {
    "name": "ipython",
    "version": 3
   },
   "file_extension": ".py",
   "mimetype": "text/x-python",
   "name": "python",
   "nbconvert_exporter": "python",
   "pygments_lexer": "ipython3",
   "version": "3.11.4"
  }
 },
 "nbformat": 4,
 "nbformat_minor": 2
}
