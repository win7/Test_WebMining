{
  "cells": [
    {
      "cell_type": "markdown",
      "metadata": {
        "id": "KZ9rYUc_PaeJ"
      },
      "source": [
        "# Selenium\n",
        "**Selenium** es una _Web Browser Automation Tool_, es decir, permite abrir un buscador y realizar tareas que \"imiten\" el comportamiento humano (clicks, scrolling, *búsquedas*, etc).  \n",
        "Link a la documentación de Selinium: [https://selenium-python.readthedocs.io/](https://selenium-python.readthedocs.io/)  \n",
        "Link a la dicumentación y descarga de chromedriver: [https://chromedriver.chromium.org/home](https://chromedriver.chromium.org/home)"
      ]
    },
    {
      "cell_type": "code",
      "execution_count": 1,
      "metadata": {
        "colab": {
          "base_uri": "https://localhost:8080/"
        },
        "id": "MzlGdwGBPTbf",
        "outputId": "0ade2a55-bb57-4a98-8079-8f866b9d70c6"
      },
      "outputs": [],
      "source": [
        "# !pip install selenium"
      ]
    },
    {
      "cell_type": "code",
      "execution_count": 2,
      "metadata": {
        "colab": {
          "base_uri": "https://localhost:8080/"
        },
        "id": "EOhd2D3usUBw",
        "outputId": "fe22bc63-7da8-4546-8f63-17ff225d9cf5"
      },
      "outputs": [],
      "source": [
        "# !apt-get install -y chromium-browser"
      ]
    },
    {
      "cell_type": "code",
      "execution_count": 3,
      "metadata": {
        "colab": {
          "base_uri": "https://localhost:8080/"
        },
        "id": "3y37aLZ0PYoy",
        "outputId": "545801d2-9644-49ea-ffe6-72ed856e5d5b"
      },
      "outputs": [
        {
          "data": {
            "text/plain": [
              "\" !apt-get update\\n# !apt install chromium-chromedriver\\n!cp /usr/lib/chromium-browser/chromedriver /usr/bin\\nimport sys\\nsys.path.insert(0,'/usr/lib/chromium-browser/chromedriver') \""
            ]
          },
          "execution_count": 3,
          "metadata": {},
          "output_type": "execute_result"
        }
      ],
      "source": [
        "\"\"\" !apt-get update\n",
        "# !apt install chromium-chromedriver\n",
        "!cp /usr/lib/chromium-browser/chromedriver /usr/bin\n",
        "import sys\n",
        "sys.path.insert(0,'/usr/lib/chromium-browser/chromedriver') \"\"\""
      ]
    },
    {
      "cell_type": "code",
      "execution_count": 4,
      "metadata": {
        "id": "ZzTF1rAwPqrV"
      },
      "outputs": [],
      "source": [
        "from bs4 import BeautifulSoup\n",
        "from selenium import webdriver\n",
        "from selenium.webdriver.chrome.options import Options\n",
        "from selenium.webdriver.common.keys import Keys\n",
        "from selenium.webdriver.support.ui import WebDriverWait\n",
        "from selenium.common.exceptions import TimeoutException\n",
        "from selenium.webdriver.support import expected_conditions\n",
        "from selenium.webdriver.common.by import By\n",
        "from selenium.webdriver.chrome.service import Service\n",
        "from selenium.webdriver import ActionChains\n",
        "\n",
        "from selenium import webdriver\n",
        "from selenium.webdriver.support import expected_conditions as EC\n",
        "\n",
        "from tqdm import tqdm\n",
        "\n",
        "import pandas as pd\n",
        "import time"
      ]
    },
    {
      "cell_type": "code",
      "execution_count": 5,
      "metadata": {
        "id": "vAxyfx5ZP076"
      },
      "outputs": [],
      "source": [
        "from selenium import webdriver\n",
        "\n",
        "def configure_driver():\n",
        "    # Add additional Options to the webdriver\n",
        "    options = webdriver.ChromeOptions()\n",
        "    # add the argument and make the browser Headless.\n",
        "    # options.add_argument('--headless')\n",
        "    # options.add_argument('--no-sandbox') # only colab\n",
        "    # options.add_argument('--disable-dev-shm-usage') # only colab\n",
        "    # Handle the service\n",
        "    # service = Service(executable_path=r'/usr/bin/chromedriver')\n",
        "    # Instantiate the Webdriver: Mention the executable path of the webdriver you have downloaded\n",
        "    driver = webdriver.Chrome(options=options)\n",
        "\n",
        "    #driver = webdriver.Firefox()\n",
        "    return driver"
      ]
    },
    {
      "cell_type": "code",
      "execution_count": 6,
      "metadata": {
        "id": "xmi4Aii0P3Et"
      },
      "outputs": [
        {
          "name": "stderr",
          "output_type": "stream",
          "text": [
            " 81%|████████  | 405/500 [09:57<02:20,  1.47s/it, Count error: 5]\n"
          ]
        },
        {
          "name": "stdout",
          "output_type": "stream",
          "text": [
            "400\n"
          ]
        },
        {
          "name": "stderr",
          "output_type": "stream",
          "text": [
            "100%|██████████| 400/400 [00:05<00:00, 79.04it/s]\n"
          ]
        }
      ],
      "source": [
        "def getCourses(driver, total_clicks):\n",
        "    # https://www.pluralsight.com/search?q=web%20scraping&categories=course\n",
        "    # Step 1: Go to pluralsight.com, category section with selected search keyword\n",
        "    # driver.get(\"https://www.pluralsight.com/search?q={search_keyword}&categories=course\")\n",
        "    driver.get(\"https://www.pluralsight.com/search?categories=course&sort=displayDate\")\n",
        "\n",
        "    timeout = 20\n",
        "    # time.sleep(timeout)\n",
        "    count = 0\n",
        "    loop_obj = tqdm(range(total_clicks))\n",
        "    for k in loop_obj:\n",
        "        # loop_obj.set_description(f\"Epoch: {k + 1}\")\n",
        "        try:\n",
        "            element = WebDriverWait(driver, timeout).until(EC.element_to_be_clickable((By.XPATH, \"//a[@id='search-results-section-load-more']\")))\n",
        "            element.click()\n",
        "            count = 0\n",
        "        except TimeoutException as r:\n",
        "            count += 1\n",
        "            # print(\"Error:\", count)\n",
        "            if count > 5:\n",
        "                break\n",
        "        loop_obj.set_postfix_str(f\"Count error: {count}\")\n",
        "\n",
        "    data = []\n",
        "    # wait for the element to load\n",
        "    try:\n",
        "        WebDriverWait(driver, timeout*10).until(lambda s: s.find_element(By.ID, \"search-results-category-target\").is_displayed())\n",
        "    except TimeoutException:\n",
        "        print(\"Timeout :(\")\n",
        "        return None\n",
        "    \n",
        "    # Step 2: Create a parse tree of page sources after searching\n",
        "    soup = BeautifulSoup(driver.page_source, \"lxml\")\n",
        "\n",
        "    # Step 3: Iterate over the search result and fetch the course\n",
        "    print(len(soup.select(\"div.search-results-page\")))\n",
        "    for course_page in tqdm(soup.select(\"div.search-results-page\")):\n",
        "        for course in course_page.select(\"div.search-result\"):\n",
        "            title_selector = \"div.search-result__info div.search-result__title a\"\n",
        "            title_url_selector = \"div.search-result__info div.search-result__title a\"\n",
        "            title_badge_selector = \"div.search-result__info div.search-result__title span\"\n",
        "            author_selector = \"div.search-result__details div.search-result__author\"\n",
        "            level_selector = \"div.search-result__details div.search-result__level\"\n",
        "            length_selector = \"div.search-result__details div.search-result__length\"\n",
        "            date_selector = \"div.search-result__details div.search-result__date\"\n",
        "            icon_selector = \"div.search-result__icon img\"\n",
        "\n",
        "            data.append({\n",
        "                \"title\" : course.select_one(title_selector).text,\n",
        "                \"title_url\" : course.select_one(title_url_selector).attrs[\"href\"],\n",
        "                \"title_badge\" : course.select_one(title_badge_selector).text,\n",
        "                \"date\": course.select_one(date_selector).text,\n",
        "                \"author\" : course.select_one(author_selector).text,\n",
        "                \"level\" : course.select_one(level_selector).text,\n",
        "                \"length\" : course.select_one(length_selector).text,\n",
        "                \"icon\": course.select_one(icon_selector).attrs[\"src\"]\n",
        "            })\n",
        "    return data\n",
        "\n",
        "total_clicks = 500\n",
        "# create the driver object.\n",
        "driver = configure_driver()\n",
        "data = getCourses(driver, total_clicks)\n"
      ]
    },
    {
      "cell_type": "code",
      "execution_count": 14,
      "metadata": {},
      "outputs": [],
      "source": [
        "# close the driver.\n",
        "driver.close()"
      ]
    },
    {
      "cell_type": "code",
      "execution_count": 7,
      "metadata": {
        "colab": {
          "base_uri": "https://localhost:8080/",
          "height": 1000
        },
        "id": "xXPbqpIZTtAp",
        "outputId": "9da68aa0-c6de-4858-a59c-ea5f118e698e"
      },
      "outputs": [
        {
          "data": {
            "text/html": [
              "<div>\n",
              "<style scoped>\n",
              "    .dataframe tbody tr th:only-of-type {\n",
              "        vertical-align: middle;\n",
              "    }\n",
              "\n",
              "    .dataframe tbody tr th {\n",
              "        vertical-align: top;\n",
              "    }\n",
              "\n",
              "    .dataframe thead th {\n",
              "        text-align: right;\n",
              "    }\n",
              "</style>\n",
              "<table border=\"1\" class=\"dataframe\">\n",
              "  <thead>\n",
              "    <tr style=\"text-align: right;\">\n",
              "      <th></th>\n",
              "      <th>title</th>\n",
              "      <th>title_url</th>\n",
              "      <th>title_badge</th>\n",
              "      <th>date</th>\n",
              "      <th>author</th>\n",
              "      <th>level</th>\n",
              "      <th>length</th>\n",
              "      <th>icon</th>\n",
              "    </tr>\n",
              "  </thead>\n",
              "  <tbody>\n",
              "    <tr>\n",
              "      <th>0</th>\n",
              "      <td>Introduction to Microsoft Copilot</td>\n",
              "      <td>https://www.pluralsight.com/courses/microsoft-...</td>\n",
              "      <td>Skills - Expanded</td>\n",
              "      <td>Sep 1 2023</td>\n",
              "      <td>by Pluralsight</td>\n",
              "      <td>Beginner</td>\n",
              "      <td>1h 26m</td>\n",
              "      <td>https://pluralsight.imgix.net/course-images/mi...</td>\n",
              "    </tr>\n",
              "    <tr>\n",
              "      <th>1</th>\n",
              "      <td>Introduction to the Microsoft Collaboration Co...</td>\n",
              "      <td>https://www.pluralsight.com/courses/msft-colla...</td>\n",
              "      <td>Skills - Expanded</td>\n",
              "      <td>Sep 1 2023</td>\n",
              "      <td>by Pluralsight</td>\n",
              "      <td>Beginner</td>\n",
              "      <td>29m</td>\n",
              "      <td>https://pluralsight.imgix.net/course-images/ms...</td>\n",
              "    </tr>\n",
              "    <tr>\n",
              "      <th>2</th>\n",
              "      <td>Key Concepts: Data Architecture Design</td>\n",
              "      <td>https://www.pluralsight.com/courses/data-archi...</td>\n",
              "      <td>Skills - Expanded</td>\n",
              "      <td>Sep 1 2023</td>\n",
              "      <td>by Pluralsight</td>\n",
              "      <td>Beginner</td>\n",
              "      <td>1h 27m</td>\n",
              "      <td>https://pluralsight.imgix.net/course-images/da...</td>\n",
              "    </tr>\n",
              "    <tr>\n",
              "      <th>3</th>\n",
              "      <td>Introduction to Emotional Intelligence</td>\n",
              "      <td>https://www.pluralsight.com/courses/introducti...</td>\n",
              "      <td>Skills - Expanded</td>\n",
              "      <td>Sep 1 2023</td>\n",
              "      <td>by Pluralsight</td>\n",
              "      <td>Beginner</td>\n",
              "      <td>1h 27m</td>\n",
              "      <td>https://pluralsight.imgix.net/course-images/in...</td>\n",
              "    </tr>\n",
              "    <tr>\n",
              "      <th>4</th>\n",
              "      <td>Functional Programming in Rust 2021</td>\n",
              "      <td>https://www.pluralsight.com/courses/rust-2021-...</td>\n",
              "      <td>Skills - Expanded</td>\n",
              "      <td>Sep 1 2023</td>\n",
              "      <td>by Pluralsight</td>\n",
              "      <td>Intermediate</td>\n",
              "      <td>1h 14m</td>\n",
              "      <td>https://pluralsight.imgix.net/course-images/ru...</td>\n",
              "    </tr>\n",
              "    <tr>\n",
              "      <th>...</th>\n",
              "      <td>...</td>\n",
              "      <td>...</td>\n",
              "      <td>...</td>\n",
              "      <td>...</td>\n",
              "      <td>...</td>\n",
              "      <td>...</td>\n",
              "      <td>...</td>\n",
              "      <td>...</td>\n",
              "    </tr>\n",
              "    <tr>\n",
              "      <th>9995</th>\n",
              "      <td>Geospatial Mapping with D3</td>\n",
              "      <td>https://www.pluralsight.com/courses/geospatial...</td>\n",
              "      <td>Skills - Expanded</td>\n",
              "      <td>May 9 2016</td>\n",
              "      <td>by Ben Sullins</td>\n",
              "      <td>Intermediate</td>\n",
              "      <td>2h 38m</td>\n",
              "      <td>https://pluralsight.imgix.net/course-images/ge...</td>\n",
              "    </tr>\n",
              "    <tr>\n",
              "      <th>9996</th>\n",
              "      <td>Connecting Our Macs to Directory Services</td>\n",
              "      <td>https://www.pluralsight.com/courses/connecting...</td>\n",
              "      <td>Skills - Expanded</td>\n",
              "      <td>May 9 2016</td>\n",
              "      <td>by Ken Mauldin</td>\n",
              "      <td>Beginner</td>\n",
              "      <td>2h 25m</td>\n",
              "      <td>https://pluralsight.imgix.net/course-images/co...</td>\n",
              "    </tr>\n",
              "    <tr>\n",
              "      <th>9997</th>\n",
              "      <td>Visual Programming Introduction with Dynamo an...</td>\n",
              "      <td>https://www.pluralsight.com/courses/dynamo-rev...</td>\n",
              "      <td>Skills - Expanded</td>\n",
              "      <td>May 6 2016</td>\n",
              "      <td>by Kevin Griendling</td>\n",
              "      <td>Intermediate</td>\n",
              "      <td>2h 9m</td>\n",
              "      <td>https://pluralsight.imgix.net/course-images/dy...</td>\n",
              "    </tr>\n",
              "    <tr>\n",
              "      <th>9998</th>\n",
              "      <td>Creating a Photorealistic Scene with 3ds Max a...</td>\n",
              "      <td>https://www.pluralsight.com/courses/3ds-max-v-...</td>\n",
              "      <td>Skills - Expanded</td>\n",
              "      <td>May 5 2016</td>\n",
              "      <td>by Zaheer Mukhtar</td>\n",
              "      <td>Intermediate</td>\n",
              "      <td>4h 54m</td>\n",
              "      <td>https://pluralsight.imgix.net/course-images/3d...</td>\n",
              "    </tr>\n",
              "    <tr>\n",
              "      <th>9999</th>\n",
              "      <td>InDesign CC Business Stationery</td>\n",
              "      <td>https://www.pluralsight.com/courses/indesign-c...</td>\n",
              "      <td>Skills - Expanded</td>\n",
              "      <td>May 5 2016</td>\n",
              "      <td>by Matthew Pizzi</td>\n",
              "      <td>Intermediate</td>\n",
              "      <td>1h 22m</td>\n",
              "      <td>https://pluralsight.imgix.net/course-images/in...</td>\n",
              "    </tr>\n",
              "  </tbody>\n",
              "</table>\n",
              "<p>10000 rows × 8 columns</p>\n",
              "</div>"
            ],
            "text/plain": [
              "                                                  title  \\\n",
              "0                     Introduction to Microsoft Copilot   \n",
              "1     Introduction to the Microsoft Collaboration Co...   \n",
              "2                Key Concepts: Data Architecture Design   \n",
              "3                Introduction to Emotional Intelligence   \n",
              "4                   Functional Programming in Rust 2021   \n",
              "...                                                 ...   \n",
              "9995                         Geospatial Mapping with D3   \n",
              "9996          Connecting Our Macs to Directory Services   \n",
              "9997  Visual Programming Introduction with Dynamo an...   \n",
              "9998  Creating a Photorealistic Scene with 3ds Max a...   \n",
              "9999                    InDesign CC Business Stationery   \n",
              "\n",
              "                                              title_url        title_badge  \\\n",
              "0     https://www.pluralsight.com/courses/microsoft-...  Skills - Expanded   \n",
              "1     https://www.pluralsight.com/courses/msft-colla...  Skills - Expanded   \n",
              "2     https://www.pluralsight.com/courses/data-archi...  Skills - Expanded   \n",
              "3     https://www.pluralsight.com/courses/introducti...  Skills - Expanded   \n",
              "4     https://www.pluralsight.com/courses/rust-2021-...  Skills - Expanded   \n",
              "...                                                 ...                ...   \n",
              "9995  https://www.pluralsight.com/courses/geospatial...  Skills - Expanded   \n",
              "9996  https://www.pluralsight.com/courses/connecting...  Skills - Expanded   \n",
              "9997  https://www.pluralsight.com/courses/dynamo-rev...  Skills - Expanded   \n",
              "9998  https://www.pluralsight.com/courses/3ds-max-v-...  Skills - Expanded   \n",
              "9999  https://www.pluralsight.com/courses/indesign-c...  Skills - Expanded   \n",
              "\n",
              "            date               author         level  length  \\\n",
              "0     Sep 1 2023       by Pluralsight      Beginner  1h 26m   \n",
              "1     Sep 1 2023       by Pluralsight      Beginner     29m   \n",
              "2     Sep 1 2023       by Pluralsight      Beginner  1h 27m   \n",
              "3     Sep 1 2023       by Pluralsight      Beginner  1h 27m   \n",
              "4     Sep 1 2023       by Pluralsight  Intermediate  1h 14m   \n",
              "...          ...                  ...           ...     ...   \n",
              "9995  May 9 2016       by Ben Sullins  Intermediate  2h 38m   \n",
              "9996  May 9 2016       by Ken Mauldin      Beginner  2h 25m   \n",
              "9997  May 6 2016  by Kevin Griendling  Intermediate   2h 9m   \n",
              "9998  May 5 2016    by Zaheer Mukhtar  Intermediate  4h 54m   \n",
              "9999  May 5 2016     by Matthew Pizzi  Intermediate  1h 22m   \n",
              "\n",
              "                                                   icon  \n",
              "0     https://pluralsight.imgix.net/course-images/mi...  \n",
              "1     https://pluralsight.imgix.net/course-images/ms...  \n",
              "2     https://pluralsight.imgix.net/course-images/da...  \n",
              "3     https://pluralsight.imgix.net/course-images/in...  \n",
              "4     https://pluralsight.imgix.net/course-images/ru...  \n",
              "...                                                 ...  \n",
              "9995  https://pluralsight.imgix.net/course-images/ge...  \n",
              "9996  https://pluralsight.imgix.net/course-images/co...  \n",
              "9997  https://pluralsight.imgix.net/course-images/dy...  \n",
              "9998  https://pluralsight.imgix.net/course-images/3d...  \n",
              "9999  https://pluralsight.imgix.net/course-images/in...  \n",
              "\n",
              "[10000 rows x 8 columns]"
            ]
          },
          "execution_count": 7,
          "metadata": {},
          "output_type": "execute_result"
        }
      ],
      "source": [
        "df_data = pd.DataFrame.from_dict(data)\n",
        "df_data"
      ]
    },
    {
      "cell_type": "code",
      "execution_count": 8,
      "metadata": {},
      "outputs": [],
      "source": [
        "df_data.to_csv(\"10000_dataset_cursos_{}.csv\".format(total_clicks))"
      ]
    },
    {
      "cell_type": "markdown",
      "metadata": {
        "id": "VJRWkRIvRqN-"
      },
      "source": [
        "# **Handling AJAX Loading and Infinite Loading**\n",
        "Sometimes, fetching content from dynamic sites is actually straightforward, as they are highly dependent on API calls. In asynchronous loading, most of the time, data is loaded by making GET and POST requests; you can watch these API calls in the Network tab of Developer Tools.\n",
        "https://www.premierleague.com/players\n"
      ]
    },
    {
      "cell_type": "code",
      "execution_count": null,
      "metadata": {
        "id": "11oMJn49Ruf5"
      },
      "outputs": [],
      "source": [
        "import requests\n",
        "import json"
      ]
    },
    {
      "cell_type": "code",
      "execution_count": null,
      "metadata": {
        "id": "ILjvhjQtCnJV"
      },
      "outputs": [],
      "source": [
        "# https://footballapi.pulselive.com/football/players?pageSize=30&compSeasons=489&altIds=true&page=0&type=player&id=-1&compSeasonId=489"
      ]
    },
    {
      "cell_type": "code",
      "execution_count": null,
      "metadata": {
        "id": "qVqLvYSWR_RD"
      },
      "outputs": [],
      "source": [
        "# API url\n",
        "url = \"https://footballapi.pulselive.com/football/players\"\n",
        "# Headers required for making a GET request\n",
        "# It is a good practice to provide headers with each request.\n",
        "headers = {\n",
        "    \"account\": \"premierleague\",\n",
        "    \"content-Type\": \"application/x-www-form-urlencoded; charset=UTF-8\",\n",
        "    \"DNT\": \"1\",\n",
        "    \"Origin\": \"https://www.premierleague.com\",\n",
        "    \"Referer\": \"https://www.premierleague.com/players\",\n",
        "    \"User-Agent\": \"Mozilla/5.0 (Windows NT 10.0; Win64; x64) AppleWebKit/537.36 (KHTML, like Gecko) Chrome/75.0.3770.100 Safari/537.36\"\n",
        "}\n",
        "\n",
        "# Query parameters required to make get request\n",
        "queryParams = {\n",
        "    \"pageSize\": 100,\n",
        "    \"compSeasons\": 578,\n",
        "    \"altIds\": True,\n",
        "    \"page\": 0,\n",
        "    \"type\": \"player\",\n",
        "    \"compSeasonId\": 578,\n",
        "    \"cl\":2,\n",
        "}"
      ]
    },
    {
      "cell_type": "code",
      "execution_count": null,
      "metadata": {
        "id": "uZdCCit7SC76"
      },
      "outputs": [],
      "source": [
        "# Sending the request with url, headers, and query params\n",
        "response = requests.get(url=url, headers=headers, params=queryParams)"
      ]
    },
    {
      "cell_type": "code",
      "execution_count": null,
      "metadata": {
        "colab": {
          "base_uri": "https://localhost:8080/"
        },
        "id": "sx980vMiD75O",
        "outputId": "5f29eeca-30ac-40a3-f0df-0c4fa334a132"
      },
      "outputs": [
        {
          "data": {
            "text/plain": [
              "200"
            ]
          },
          "execution_count": 44,
          "metadata": {},
          "output_type": "execute_result"
        }
      ],
      "source": [
        "response.status_code"
      ]
    },
    {
      "cell_type": "code",
      "execution_count": null,
      "metadata": {
        "colab": {
          "base_uri": "https://localhost:8080/"
        },
        "id": "98gYXYrib3qc",
        "outputId": "e1c06cde-a0a1-4063-9fdb-f44b82248eb3"
      },
      "outputs": [
        {
          "data": {
            "text/plain": [
              "<bound method Response.json of <Response [200]>>"
            ]
          },
          "execution_count": 50,
          "metadata": {},
          "output_type": "execute_result"
        }
      ],
      "source": [
        "response.text"
      ]
    },
    {
      "cell_type": "code",
      "execution_count": null,
      "metadata": {
        "colab": {
          "base_uri": "https://localhost:8080/"
        },
        "id": "8v8vUuq9SEpT",
        "outputId": "5b73a698-4166-484c-87e1-cb31537ef372"
      },
      "outputs": [
        {
          "name": "stdout",
          "output_type": "stream",
          "text": [
            "{'name': 'Max Aarons', 'nationalTeam': 'England', 'position': 'Right Full Back'}\n",
            "{'name': 'Zach Abbott', 'nationalTeam': 'England', 'position': 'Defender'}\n",
            "{'name': 'Terry Ablade', 'nationalTeam': 'Finland', 'position': 'Centre Striker'}\n",
            "{'name': 'Tyler Adams', 'nationalTeam': 'United States', 'position': 'Midfielder'}\n",
            "{'name': 'Tosin Adarabioyo', 'nationalTeam': 'England', 'position': 'Centre Central Defender'}\n",
            "{'name': 'Tayo Adaramola', 'nationalTeam': 'Ireland', 'position': 'Left Full Back'}\n",
            "{'name': 'Elijah Adebayo', 'nationalTeam': 'England', 'position': 'Centre Striker'}\n",
            "{'name': 'Valintino Adedokun', 'nationalTeam': 'Ireland', 'position': 'Defender'}\n",
            "{'name': 'Simon Adingra', 'nationalTeam': 'Cote D’Ivoire', 'position': 'Left Winger'}\n",
            "{'name': 'Adler Nascimento', 'nationalTeam': 'Portugal', 'position': 'Left Winger'}\n",
            "{'name': 'Adrián', 'nationalTeam': 'Spain', 'position': 'Goalkeeper'}\n",
            "{'name': 'Daniel Adu-Adjei', 'nationalTeam': 'England', 'position': 'Midfielder'}\n",
            "{'name': 'Nayef Aguerd', 'nationalTeam': 'Morocco', 'position': 'Centre Central Defender'}\n",
            "{'name': 'Brandon Aguilera', 'nationalTeam': 'Costa Rica', 'position': 'Midfielder'}\n",
            "{'name': 'Enock Agyei', 'nationalTeam': 'Belgium', 'position': 'Winger'}\n",
            "{'name': 'Naouirou Ahamada', 'nationalTeam': 'France', 'position': 'Centre Central Midfielder'}\n",
            "{'name': 'Anel Ahmedhodzic', 'nationalTeam': 'Bosnia & Herzegovina', 'position': 'Centre Central Defender'}\n",
            "{'name': 'Ola Aina', 'nationalTeam': 'Nigeria', 'position': 'Right Full Back'}\n",
            "{'name': 'Rayan Aït-Nouri', 'nationalTeam': 'Algeria', 'position': 'Left Full Back'}\n",
            "{'name': 'Kristoffer Ajer', 'nationalTeam': 'Norway', 'position': 'Centre Central Defender'}\n",
            "{'name': 'Manuel Akanji', 'nationalTeam': 'Switzerland', 'position': 'Centre Central Defender'}\n",
            "{'name': 'Nathan Aké', 'nationalTeam': 'Netherlands', 'position': 'Left/Centre Central Defender'}\n",
            "{'name': 'Ameen Al Dakhil', 'nationalTeam': 'Belgium', 'position': 'Central Defender'}\n",
            "{'name': 'Thiago Alcântara', 'nationalTeam': 'Spain', 'position': 'Centre Central Midfielder'}\n",
            "{'name': 'Alex Telles', 'nationalTeam': 'Brazil', 'position': 'Left Full Back'}\n",
            "{'name': 'Trent Alexander-Arnold', 'nationalTeam': 'England', 'position': 'Right Full Back'}\n",
            "{'name': 'Alisson Becker', 'nationalTeam': 'Brazil', 'position': 'Goalkeeper'}\n",
            "{'name': 'Sonny Aljofree', 'nationalTeam': 'England', 'position': 'Defender'}\n",
            "{'name': 'Josh Allen', 'nationalTeam': 'England', 'position': 'Midfielder'}\n",
            "{'name': 'Dele Alli', 'nationalTeam': 'England', 'position': 'Centre Attacking Midfielder'}\n",
            "{'name': 'Miguel Almirón', 'nationalTeam': 'Paraguay', 'position': 'Left/Centre/Right Second Striker'}\n",
            "{'name': 'Julián Álvarez', 'nationalTeam': 'Argentina', 'position': 'Forward'}\n",
            "{'name': 'Steven Alzate', 'nationalTeam': 'Colombia', 'position': 'Midfielder'}\n",
            "{'name': 'Zeki Amdouni', 'nationalTeam': 'Switzerland', 'position': 'Forward'}\n",
            "{'name': 'Samuel Amissah', 'nationalTeam': 'England', 'position': 'Central Defender'}\n",
            "{'name': 'Ethan Ampadu', 'nationalTeam': 'Wales', 'position': 'Central Defender'}\n",
            "{'name': 'Joseph Anang', 'nationalTeam': 'England', 'position': 'Goalkeeper'}\n",
            "{'name': 'Joachim Andersen', 'nationalTeam': 'Denmark', 'position': 'Centre Central Defender'}\n",
            "{'name': 'Elliot Anderson', 'nationalTeam': 'Scotland', 'position': 'Centre Central Midfielder'}\n",
            "{'name': 'André Gomes', 'nationalTeam': 'Portugal', 'position': 'Centre Central Midfielder'}\n",
            "{'name': 'Andreas Pereira', 'nationalTeam': 'Brazil', 'position': 'Attacking Midfielder'}\n",
            "{'name': 'Andrey Santos', 'nationalTeam': 'Brazil', 'position': 'Centre Defensive Midfielder'}\n",
            "{'name': 'Ângelo', 'nationalTeam': 'Brazil', 'position': 'Forward'}\n",
            "{'name': 'Tino Anjorin', 'nationalTeam': 'England', 'position': 'Centre Central Midfielder'}\n",
            "{'name': 'Jaidon Anthony', 'nationalTeam': 'England', 'position': 'Winger'}\n",
            "{'name': 'Michail Antonio', 'nationalTeam': 'Jamaica', 'position': 'Centre Striker'}\n",
            "{'name': 'Antony', 'nationalTeam': 'Brazil', 'position': 'Left/Right Winger'}\n",
            "{'name': 'Keenan Appiah-Forson', 'nationalTeam': 'England', 'position': 'Centre Defensive Midfielder'}\n",
            "{'name': 'Oliver Arblaster', 'nationalTeam': 'England', 'position': 'Centre Central Midfielder'}\n",
            "{'name': 'Cameron Archer', 'nationalTeam': 'England', 'position': 'Centre Striker'}\n",
            "{'name': 'Alphonse Areola', 'nationalTeam': 'France', 'position': 'Goalkeeper'}\n",
            "{'name': 'Harry Arter', 'nationalTeam': 'Ireland', 'position': 'Centre Central Midfielder'}\n",
            "{'name': 'Arthur', 'nationalTeam': 'Brazil', 'position': 'Centre Central Midfielder'}\n",
            "{'name': 'Harrison Ashby', 'nationalTeam': 'Scotland', 'position': 'Right Full Back'}\n",
            "{'name': 'Pierre-Emerick Aubameyang', 'nationalTeam': 'Gabon', 'position': 'Striker'}\n",
            "{'name': 'Sèrge Aurier', 'nationalTeam': 'Cote D’Ivoire', 'position': 'Right Full Back'}\n",
            "{'name': 'Brandon Austin', 'nationalTeam': 'England', 'position': 'Goalkeeper'}\n",
            "{'name': 'Taiwo Awoniyi', 'nationalTeam': 'Nigeria', 'position': 'Centre Striker'}\n",
            "{'name': 'Yasin Ayari', 'nationalTeam': 'Sweden', 'position': 'Central Midfielder'}\n",
            "{'name': 'Jordan Ayew', 'nationalTeam': 'Ghana', 'position': 'Centre Striker'}\n",
            "{'name': 'César Azpilicueta', 'nationalTeam': 'Spain', 'position': 'Right Full Back'}\n",
            "{'name': 'Abdul Baba', 'nationalTeam': 'Ghana', 'position': 'Left Full Back'}\n",
            "{'name': 'Benoît Badiashile', 'nationalTeam': 'France', 'position': 'Central Defender'}\n",
            "{'name': 'Leon Bailey', 'nationalTeam': 'Jamaica', 'position': 'Left Winger'}\n",
            "{'name': 'Eric Bailly', 'nationalTeam': 'Cote D’Ivoire', 'position': 'Central Defender'}\n",
            "{'name': 'Stefan Bajcetic', 'nationalTeam': 'Spain', 'position': 'Centre Central Midfielder'}\n",
            "{'name': 'Benicio Baker-Boaitey', 'nationalTeam': 'England', 'position': 'Left Winger'}\n",
            "{'name': 'Ellery Balcombe', 'nationalTeam': 'England', 'position': 'Goalkeeper'}\n",
            "{'name': 'George Baldock', 'nationalTeam': 'Greece', 'position': 'Right Full Back'}\n",
            "{'name': 'Carlos Baleba', 'nationalTeam': 'Cameroon', 'position': 'Centre Central Midfielder'}\n",
            "{'name': 'Emilio Ballard-Matthews', 'nationalTeam': 'England', 'position': 'Forward'}\n",
            "{'name': 'Kofi Balmer', 'nationalTeam': 'Northern Ireland', 'position': 'Centre Central Defender'}\n",
            "{'name': 'Folarin Balogun', 'nationalTeam': 'United States', 'position': 'Centre Striker'}\n",
            "{'name': 'Mauro Bandeira', 'nationalTeam': 'Portugal', 'position': 'Centre Central Midfielder'}\n",
            "{'name': 'Scott Banks', 'nationalTeam': 'Scotland', 'position': 'Right Winger'}\n",
            "{'name': 'Shandon Baptiste', 'nationalTeam': 'Grenada', 'position': 'Centre Central Midfielder'}\n",
            "{'name': 'Ross Barkley', 'nationalTeam': 'England', 'position': 'Centre Central Midfielder'}\n",
            "{'name': 'Ashley Barnes', 'nationalTeam': 'England', 'position': 'Centre Striker'}\n",
            "{'name': 'Chris Basham', 'nationalTeam': 'England', 'position': 'Centre Central Defender'}\n",
            "{'name': 'Calvin Bassey', 'nationalTeam': 'Nigeria', 'position': 'Left Full Back'}\n",
            "{'name': 'Samuel Bastien', 'nationalTeam': 'DR Congo', 'position': 'Centre Central Midfielder'}\n",
            "{'name': 'Joe Bauress', 'nationalTeam': 'England', 'position': 'Forward'}\n",
            "{'name': 'Nathan Baxter', 'nationalTeam': 'England', 'position': 'Goalkeeper'}\n",
            "{'name': 'Eddie Beach', 'nationalTeam': 'Wales', 'position': 'Goalkeeper'}\n",
            "{'name': 'Mads Bech', 'nationalTeam': 'Denmark', 'position': 'Central Defender'}\n",
            "{'name': 'Asmir Begovic', 'nationalTeam': 'Bosnia & Herzegovina', 'position': 'Goalkeeper'}\n",
            "{'name': \"Amari'i Bell\", 'nationalTeam': 'Jamaica', 'position': 'Left Full Back'}\n",
            "{'name': 'Anis Ben Slimane', 'nationalTeam': 'Tunisia', 'position': 'Central Midfielder'}\n",
            "{'name': 'Steven Benda', 'nationalTeam': 'Germany', 'position': 'Goalkeeper'}\n",
            "{'name': 'Rhys Bennett', 'nationalTeam': 'England', 'position': 'Centre Central Defender'}\n",
            "{'name': 'Saïd Benrahma', 'nationalTeam': 'Algeria', 'position': 'Left/Centre/Right Second Striker'}\n",
            "{'name': 'Rodrigo Bentancur', 'nationalTeam': 'Uruguay', 'position': 'Centre Central Midfielder'}\n",
            "{'name': 'Dan Bentley', 'nationalTeam': 'England', 'position': 'Goalkeeper'}\n",
            "{'name': 'Sander Berge', 'nationalTeam': 'Norway', 'position': 'Midfielder'}\n",
            "{'name': 'Lucas Bergström', 'nationalTeam': 'Finland', 'position': 'Goalkeeper'}\n",
            "{'name': 'Bernardo Silva', 'nationalTeam': 'Portugal', 'position': 'Left/Centre Attacking Midfielder'}\n",
            "{'name': 'Luke Berry', 'nationalTeam': 'England', 'position': 'Centre Central Midfielder'}\n",
            "{'name': 'Beto', 'nationalTeam': 'Portugal', 'position': 'Centre Striker'}\n",
            "{'name': 'Marcus Bettinelli', 'nationalTeam': 'England', 'position': 'Goalkeeper'}\n",
            "{'name': 'Jordan Beyer', 'nationalTeam': 'Germany', 'position': 'Centre Central Defender'}\n"
          ]
        }
      ],
      "source": [
        "# if response status code is 200 OK, then\n",
        "if response.status_code == 200:\n",
        "  data = json.loads(response.text)\n",
        "  for player in data[\"content\"]:\n",
        "    print({\n",
        "        \"name\": player[\"name\"][\"display\"],\n",
        "        \"nationalTeam\": player[\"nationalTeam\"][\"country\"],\n",
        "        \"position\": player[\"info\"][\"positionInfo\"]\n",
        "    })"
      ]
    },
    {
      "cell_type": "code",
      "execution_count": null,
      "metadata": {
        "id": "pGg06BQlFOji"
      },
      "outputs": [],
      "source": []
    }
  ],
  "metadata": {
    "colab": {
      "provenance": []
    },
    "kernelspec": {
      "display_name": "Python 3",
      "name": "python3"
    },
    "language_info": {
      "codemirror_mode": {
        "name": "ipython",
        "version": 3
      },
      "file_extension": ".py",
      "mimetype": "text/x-python",
      "name": "python",
      "nbconvert_exporter": "python",
      "pygments_lexer": "ipython3",
      "version": "3.11.4"
    }
  },
  "nbformat": 4,
  "nbformat_minor": 0
}
