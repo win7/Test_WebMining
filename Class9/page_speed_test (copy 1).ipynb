{
 "cells": [
  {
   "cell_type": "code",
   "execution_count": 16,
   "metadata": {},
   "outputs": [
    {
     "name": "stdout",
     "output_type": "stream",
     "text": [
      "Requirement already satisfied: requests in /home/win7/miniconda3/envs/min_web/lib/python3.11/site-packages (2.31.0)\n",
      "Requirement already satisfied: charset-normalizer<4,>=2 in /home/win7/miniconda3/envs/min_web/lib/python3.11/site-packages (from requests) (3.2.0)\n",
      "Requirement already satisfied: idna<4,>=2.5 in /home/win7/miniconda3/envs/min_web/lib/python3.11/site-packages (from requests) (3.4)\n",
      "Requirement already satisfied: urllib3<3,>=1.21.1 in /home/win7/miniconda3/envs/min_web/lib/python3.11/site-packages (from requests) (2.0.4)\n",
      "Requirement already satisfied: certifi>=2017.4.17 in /home/win7/miniconda3/envs/min_web/lib/python3.11/site-packages (from requests) (2023.7.22)\n"
     ]
    }
   ],
   "source": [
    "!pip install requests"
   ]
  },
  {
   "cell_type": "code",
   "execution_count": 17,
   "metadata": {},
   "outputs": [],
   "source": [
    "from datetime import datetime\n",
    "\n",
    "import pandas as pd\n",
    "import requests"
   ]
  },
  {
   "cell_type": "code",
   "execution_count": 18,
   "metadata": {},
   "outputs": [],
   "source": [
    "# test\n",
    "# curl https://www.googleapis.com/pagespeedonline/v5/runPagespeed?url=https://developers.google.com"
   ]
  },
  {
   "cell_type": "markdown",
   "metadata": {},
   "source": [
    "#### 1. List of 10 web page"
   ]
  },
  {
   "cell_type": "code",
   "execution_count": 19,
   "metadata": {},
   "outputs": [],
   "source": [
    "urls = [\"https://www.coolbox.pe/\", \n",
    "        \"https://www.topitop.pe/\", \n",
    "        \"https://www.cineplanet.com.pe/\",\n",
    "        \"https://tottus.falabella.com.pe/tottus-pe\",\n",
    "        \"https://hiraoka.com.pe/\",\n",
    "        \"https://www.tambo.pe/\", \n",
    "        \"https://www.skyairline.com/chile\", \n",
    "        \"https://www.latamairlines.com/pe/es\", \n",
    "        \"https://www.joinnus.com/\",\n",
    "        \"https://comparabien.com.pe/\"\n",
    "]"
   ]
  },
  {
   "cell_type": "markdown",
   "metadata": {},
   "source": [
    "### 2. Performance of pages"
   ]
  },
  {
   "cell_type": "markdown",
   "metadata": {},
   "source": [
    "Run analysis using PageSpeep Ingsghts API"
   ]
  },
  {
   "cell_type": "code",
   "execution_count": 20,
   "metadata": {},
   "outputs": [
    {
     "data": {
      "text/html": [
       "<div>\n",
       "<style scoped>\n",
       "    .dataframe tbody tr th:only-of-type {\n",
       "        vertical-align: middle;\n",
       "    }\n",
       "\n",
       "    .dataframe tbody tr th {\n",
       "        vertical-align: top;\n",
       "    }\n",
       "\n",
       "    .dataframe thead th {\n",
       "        text-align: right;\n",
       "    }\n",
       "</style>\n",
       "<table border=\"1\" class=\"dataframe\">\n",
       "  <thead>\n",
       "    <tr style=\"text-align: right;\">\n",
       "      <th></th>\n",
       "      <th>URL</th>\n",
       "      <th>Datetime</th>\n",
       "      <th>Performance Score</th>\n",
       "      <th>Loading Time (ms)</th>\n",
       "    </tr>\n",
       "  </thead>\n",
       "  <tbody>\n",
       "    <tr>\n",
       "      <th>0</th>\n",
       "      <td>https://www.coolbox.pe/</td>\n",
       "      <td>2023-10-26 21:54:24.925660</td>\n",
       "      <td>0.49</td>\n",
       "      <td>1959</td>\n",
       "    </tr>\n",
       "    <tr>\n",
       "      <th>1</th>\n",
       "      <td>https://www.topitop.pe/</td>\n",
       "      <td>2023-10-26 21:54:55.854411</td>\n",
       "      <td>0.42</td>\n",
       "      <td>1572</td>\n",
       "    </tr>\n",
       "    <tr>\n",
       "      <th>2</th>\n",
       "      <td>https://www.cineplanet.com.pe/</td>\n",
       "      <td>2023-10-26 21:55:19.629967</td>\n",
       "      <td>0.66</td>\n",
       "      <td>3000</td>\n",
       "    </tr>\n",
       "    <tr>\n",
       "      <th>3</th>\n",
       "      <td>https://tottus.falabella.com.pe/tottus-pe</td>\n",
       "      <td>2023-10-26 21:55:40.515937</td>\n",
       "      <td>0.62</td>\n",
       "      <td>1348</td>\n",
       "    </tr>\n",
       "    <tr>\n",
       "      <th>4</th>\n",
       "      <td>https://hiraoka.com.pe/</td>\n",
       "      <td>2023-10-26 21:55:59.633129</td>\n",
       "      <td>0.54</td>\n",
       "      <td>1467</td>\n",
       "    </tr>\n",
       "    <tr>\n",
       "      <th>5</th>\n",
       "      <td>https://www.tambo.pe/</td>\n",
       "      <td>2023-10-26 21:56:31.703954</td>\n",
       "      <td>0.55</td>\n",
       "      <td>1763</td>\n",
       "    </tr>\n",
       "    <tr>\n",
       "      <th>6</th>\n",
       "      <td>https://www.skyairline.com/chile</td>\n",
       "      <td>2023-10-26 21:56:58.576960</td>\n",
       "      <td>0.08</td>\n",
       "      <td>6935</td>\n",
       "    </tr>\n",
       "    <tr>\n",
       "      <th>7</th>\n",
       "      <td>https://www.latamairlines.com/pe/es</td>\n",
       "      <td>2023-10-26 21:57:50.375571</td>\n",
       "      <td>0.36</td>\n",
       "      <td>1952</td>\n",
       "    </tr>\n",
       "    <tr>\n",
       "      <th>8</th>\n",
       "      <td>https://www.joinnus.com/</td>\n",
       "      <td>2023-10-26 21:58:21.738007</td>\n",
       "      <td>0.38</td>\n",
       "      <td>2152</td>\n",
       "    </tr>\n",
       "    <tr>\n",
       "      <th>9</th>\n",
       "      <td>https://comparabien.com.pe/</td>\n",
       "      <td>2023-10-26 21:58:45.192439</td>\n",
       "      <td>0.97</td>\n",
       "      <td>912</td>\n",
       "    </tr>\n",
       "  </tbody>\n",
       "</table>\n",
       "</div>"
      ],
      "text/plain": [
       "                                         URL                   Datetime  \\\n",
       "0                    https://www.coolbox.pe/ 2023-10-26 21:54:24.925660   \n",
       "1                    https://www.topitop.pe/ 2023-10-26 21:54:55.854411   \n",
       "2             https://www.cineplanet.com.pe/ 2023-10-26 21:55:19.629967   \n",
       "3  https://tottus.falabella.com.pe/tottus-pe 2023-10-26 21:55:40.515937   \n",
       "4                    https://hiraoka.com.pe/ 2023-10-26 21:55:59.633129   \n",
       "5                      https://www.tambo.pe/ 2023-10-26 21:56:31.703954   \n",
       "6           https://www.skyairline.com/chile 2023-10-26 21:56:58.576960   \n",
       "7        https://www.latamairlines.com/pe/es 2023-10-26 21:57:50.375571   \n",
       "8                   https://www.joinnus.com/ 2023-10-26 21:58:21.738007   \n",
       "9                https://comparabien.com.pe/ 2023-10-26 21:58:45.192439   \n",
       "\n",
       "   Performance Score  Loading Time (ms)  \n",
       "0               0.49               1959  \n",
       "1               0.42               1572  \n",
       "2               0.66               3000  \n",
       "3               0.62               1348  \n",
       "4               0.54               1467  \n",
       "5               0.55               1763  \n",
       "6               0.08               6935  \n",
       "7               0.36               1952  \n",
       "8               0.38               2152  \n",
       "9               0.97                912  "
      ]
     },
     "execution_count": 20,
     "metadata": {},
     "output_type": "execute_result"
    }
   ],
   "source": [
    "result_data = []\n",
    "for url in urls:\n",
    "    # url format\n",
    "    api_url = f\"https://www.googleapis.com/pagespeedonline/v5/runPagespeed?url={url}\"\n",
    "\n",
    "    # request to API\n",
    "    now = datetime.now()\n",
    "    response = requests.get(api_url)\n",
    "    data = response.json()\n",
    "\n",
    "    # extract important information\n",
    "    performance_score = data[\"lighthouseResult\"][\"categories\"][\"performance\"][\"score\"]\n",
    "    loading_time = data[\"loadingExperience\"][\"metrics\"][\"FIRST_CONTENTFUL_PAINT_MS\"][\"percentile\"]\n",
    "\n",
    "    # extract opportunities and diagnostics\n",
    "    # opportunities = data[\"lighthouseResult\"][\"audits\"][\"opportunities\"][\"details\"]\n",
    "    # diagnostics = data[\"lighthouseResult\"][\"audits\"][\"diagnostics\"][\"details\"]\n",
    "\n",
    "    # save data\n",
    "    result_data.append([url, now, performance_score, loading_time])\n",
    "df = pd.DataFrame(result_data, columns=[\"URL\", \"Datetime\", \"Performance Score\", \"Loading Time (ms)\"])\n",
    "df\n"
   ]
  },
  {
   "cell_type": "markdown",
   "metadata": {},
   "source": [
    "Comparing resutls"
   ]
  },
  {
   "cell_type": "code",
   "execution_count": 21,
   "metadata": {},
   "outputs": [
    {
     "data": {
      "text/plain": [
       "<Axes: >"
      ]
     },
     "execution_count": 21,
     "metadata": {},
     "output_type": "execute_result"
    },
    {
     "data": {
      "image/png": "[encoded data removed]",
      "text/plain": [
       "<Figure size 640x480 with 1 Axes>"
      ]
     },
     "metadata": {},
     "output_type": "display_data"
    }
   ],
   "source": [
    "df.plot.bar(rot=0)"
   ]
  },
  {
   "cell_type": "markdown",
   "metadata": {},
   "source": [
    "#### Logs and error files for Firefox on Linux (Manjaro)"
   ]
  },
  {
   "cell_type": "code",
   "execution_count": null,
   "metadata": {},
   "outputs": [],
   "source": [
    "# Profesor, me falto tiempo para esta parte."
   ]
  }
 ],
 "metadata": {
  "kernelspec": {
   "display_name": "min_web",
   "language": "python",
   "name": "python3"
  },
  "language_info": {
   "codemirror_mode": {
    "name": "ipython",
    "version": 3
   },
   "file_extension": ".py",
   "mimetype": "text/x-python",
   "name": "python",
   "nbconvert_exporter": "python",
   "pygments_lexer": "ipython3",
   "version": "3.11.4"
  }
 },
 "nbformat": 4,
 "nbformat_minor": 2
}
